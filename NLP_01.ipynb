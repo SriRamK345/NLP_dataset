{
  "nbformat": 4,
  "nbformat_minor": 0,
  "metadata": {
    "colab": {
      "provenance": [],
      "authorship_tag": "ABX9TyOEPxeoMHKVPLwYv4C5DAv7",
      "include_colab_link": true
    },
    "kernelspec": {
      "name": "python3",
      "display_name": "Python 3"
    },
    "language_info": {
      "name": "python"
    }
  },
  "cells": [
    {
      "cell_type": "markdown",
      "metadata": {
        "id": "view-in-github",
        "colab_type": "text"
      },
      "source": [
        "<a href=\"https://colab.research.google.com/github/SriRamK345/NLP_dataset/blob/main/NLP_01.ipynb\" target=\"_parent\"><img src=\"https://colab.research.google.com/assets/colab-badge.svg\" alt=\"Open In Colab\"/></a>"
      ]
    },
    {
      "cell_type": "code",
      "source": [
        " ! pip install nltk"
      ],
      "metadata": {
        "colab": {
          "base_uri": "https://localhost:8080/"
        },
        "id": "G5ULmEivYPJO",
        "outputId": "922670f9-9a16-4299-a72c-cf5ba82048d8"
      },
      "execution_count": 2,
      "outputs": [
        {
          "output_type": "stream",
          "name": "stdout",
          "text": [
            "Requirement already satisfied: nltk in /usr/local/lib/python3.10/dist-packages (3.8.1)\n",
            "Requirement already satisfied: click in /usr/local/lib/python3.10/dist-packages (from nltk) (8.1.7)\n",
            "Requirement already satisfied: joblib in /usr/local/lib/python3.10/dist-packages (from nltk) (1.4.2)\n",
            "Requirement already satisfied: regex>=2021.8.3 in /usr/local/lib/python3.10/dist-packages (from nltk) (2024.9.11)\n",
            "Requirement already satisfied: tqdm in /usr/local/lib/python3.10/dist-packages (from nltk) (4.66.5)\n"
          ]
        }
      ]
    },
    {
      "cell_type": "code",
      "source": [
        "para = \" It was the best of times, it was the worst of times, it was the age of wisdom, it was the age of foolishness, it was the epoch of belief, it was the epoch of incredulity, it was the season of Light, it was the season of Darkness, it was the spring of hope, it was the winter of despair, we had everything before us, we had nothing before us, we were all going direct to Heaven, we were all going direct to Hell. \""
      ],
      "metadata": {
        "id": "95uXWRGeYVe7"
      },
      "execution_count": 33,
      "outputs": []
    },
    {
      "cell_type": "code",
      "source": [
        "para"
      ],
      "metadata": {
        "colab": {
          "base_uri": "https://localhost:8080/",
          "height": 90
        },
        "id": "5CrJntmqYVhu",
        "outputId": "2967b31f-63b1-4aeb-fe13-b5e852fa119c"
      },
      "execution_count": 34,
      "outputs": [
        {
          "output_type": "execute_result",
          "data": {
            "text/plain": [
              "' It was the best of times, it was the worst of times, it was the age of wisdom, it was the age of foolishness, it was the epoch of belief, it was the epoch of incredulity, it was the season of Light, it was the season of Darkness, it was the spring of hope, it was the winter of despair, we had everything before us, we had nothing before us, we were all going direct to Heaven, we were all going direct to Hell. '"
            ],
            "application/vnd.google.colaboratory.intrinsic+json": {
              "type": "string"
            }
          },
          "metadata": {},
          "execution_count": 34
        }
      ]
    },
    {
      "cell_type": "code",
      "source": [
        "import nltk\n",
        "from nltk.tokenize import sent_tokenize\n",
        "from nltk.tokenize import word_tokenize"
      ],
      "metadata": {
        "id": "99s-1tJyYVwl"
      },
      "execution_count": 5,
      "outputs": []
    },
    {
      "cell_type": "code",
      "source": [
        "nltk.download('punkt')"
      ],
      "metadata": {
        "colab": {
          "base_uri": "https://localhost:8080/"
        },
        "id": "HTbUIX9wY_v0",
        "outputId": "1bd2778a-2423-470c-909e-65e737a83df3"
      },
      "execution_count": 35,
      "outputs": [
        {
          "output_type": "stream",
          "name": "stderr",
          "text": [
            "[nltk_data] Downloading package punkt to /root/nltk_data...\n",
            "[nltk_data]   Package punkt is already up-to-date!\n"
          ]
        },
        {
          "output_type": "execute_result",
          "data": {
            "text/plain": [
              "True"
            ]
          },
          "metadata": {},
          "execution_count": 35
        }
      ]
    },
    {
      "cell_type": "code",
      "source": [
        "sent = nltk.sent_tokenize(para)\n",
        "sent"
      ],
      "metadata": {
        "colab": {
          "base_uri": "https://localhost:8080/"
        },
        "id": "vqbT_dz_ngSu",
        "outputId": "aff77306-1c84-4c2d-ca5f-66fc8f9f63f4"
      },
      "execution_count": 37,
      "outputs": [
        {
          "output_type": "execute_result",
          "data": {
            "text/plain": [
              "[' It was the best of times, it was the worst of times, it was the age of wisdom, it was the age of foolishness, it was the epoch of belief, it was the epoch of incredulity, it was the season of Light, it was the season of Darkness, it was the spring of hope, it was the winter of despair, we had everything before us, we had nothing before us, we were all going direct to Heaven, we were all going direct to Hell.']"
            ]
          },
          "metadata": {},
          "execution_count": 37
        }
      ]
    },
    {
      "cell_type": "code",
      "source": [
        "from nltk.stem import PorterStemmer\n",
        "ps = PorterStemmer()"
      ],
      "metadata": {
        "id": "tC2rIe1jZD0d"
      },
      "execution_count": 23,
      "outputs": []
    },
    {
      "cell_type": "code",
      "source": [
        "from nltk.stem import WordNetLemmatizer\n",
        "nltk.download('wordnet')\n",
        "lemmatizer = WordNetLemmatizer()"
      ],
      "metadata": {
        "colab": {
          "base_uri": "https://localhost:8080/"
        },
        "id": "Yl6cl-7gZ9rX",
        "outputId": "de68a2bc-5890-4d11-9048-80497cc9f154"
      },
      "execution_count": 24,
      "outputs": [
        {
          "output_type": "stream",
          "name": "stderr",
          "text": [
            "[nltk_data] Downloading package wordnet to /root/nltk_data...\n",
            "[nltk_data]   Package wordnet is already up-to-date!\n"
          ]
        }
      ]
    },
    {
      "cell_type": "code",
      "source": [
        "import re\n",
        "\n",
        "corpus = []\n",
        "for i in range(len(sent)):\n",
        "    review = re.sub('[^a-zA-Z]', ' ', sent[i]) # other than ^a-zA-Z replace all with blank space\n",
        "    review = review.lower()\n",
        "    corpus.append(review)"
      ],
      "metadata": {
        "id": "HGv_-DScaKTw"
      },
      "execution_count": 43,
      "outputs": []
    },
    {
      "cell_type": "code",
      "source": [
        "corpus"
      ],
      "metadata": {
        "colab": {
          "base_uri": "https://localhost:8080/"
        },
        "id": "Iq2THQpZn4WH",
        "outputId": "81371550-6137-4967-a616-95ae21a092ac"
      },
      "execution_count": 44,
      "outputs": [
        {
          "output_type": "execute_result",
          "data": {
            "text/plain": [
              "[' it was the best of times  it was the worst of times  it was the age of wisdom  it was the age of foolishness  it was the epoch of belief  it was the epoch of incredulity  it was the season of light  it was the season of darkness  it was the spring of hope  it was the winter of despair  we had everything before us  we had nothing before us  we were all going direct to heaven  we were all going direct to hell ']"
            ]
          },
          "metadata": {},
          "execution_count": 44
        }
      ]
    },
    {
      "cell_type": "code",
      "source": [
        "from nltk.corpus import stopwords"
      ],
      "metadata": {
        "id": "i4MWe88AlxPX"
      },
      "execution_count": 45,
      "outputs": []
    },
    {
      "cell_type": "code",
      "source": [
        "stemmed_ = []\n",
        "\n",
        "for i in corpus:\n",
        "  wordd = nltk.word_tokenize(i) # word tokenization\n",
        "  for word in wordd:\n",
        "    if word not in set(stopwords.words(\"english\")):\n",
        "      stemmed_.append(ps.stem(word))"
      ],
      "metadata": {
        "id": "-Zb1AJPybagW"
      },
      "execution_count": 49,
      "outputs": []
    },
    {
      "cell_type": "code",
      "source": [
        "stemmed_"
      ],
      "metadata": {
        "colab": {
          "base_uri": "https://localhost:8080/"
        },
        "id": "W1GMQVtDplrw",
        "outputId": "b52cc2ed-1383-48b7-aba9-ce118916f460"
      },
      "execution_count": 50,
      "outputs": [
        {
          "output_type": "execute_result",
          "data": {
            "text/plain": [
              "['best',\n",
              " 'time',\n",
              " 'worst',\n",
              " 'time',\n",
              " 'age',\n",
              " 'wisdom',\n",
              " 'age',\n",
              " 'foolish',\n",
              " 'epoch',\n",
              " 'belief',\n",
              " 'epoch',\n",
              " 'incredul',\n",
              " 'season',\n",
              " 'light',\n",
              " 'season',\n",
              " 'dark',\n",
              " 'spring',\n",
              " 'hope',\n",
              " 'winter',\n",
              " 'despair',\n",
              " 'everyth',\n",
              " 'us',\n",
              " 'noth',\n",
              " 'us',\n",
              " 'go',\n",
              " 'direct',\n",
              " 'heaven',\n",
              " 'go',\n",
              " 'direct',\n",
              " 'hell']"
            ]
          },
          "metadata": {},
          "execution_count": 50
        }
      ]
    },
    {
      "cell_type": "code",
      "source": [
        "lemmatizer_ = []\n",
        "\n",
        "for i in corpus:\n",
        "  wordd = nltk.word_tokenize(i) # word tokenization\n",
        "  for word in wordd:\n",
        "    if word not in set(stopwords.words(\"english\")):\n",
        "      lemmatizer_.append(lemmatizer.lemmatize(word))"
      ],
      "metadata": {
        "id": "h8rJss8UbakP"
      },
      "execution_count": 51,
      "outputs": []
    },
    {
      "cell_type": "code",
      "source": [
        "lemmatizer_"
      ],
      "metadata": {
        "colab": {
          "base_uri": "https://localhost:8080/"
        },
        "id": "YhjXkPJ5qHnM",
        "outputId": "8a7f1896-c433-4253-9e54-60a21dac3e99"
      },
      "execution_count": 52,
      "outputs": [
        {
          "output_type": "execute_result",
          "data": {
            "text/plain": [
              "['best',\n",
              " 'time',\n",
              " 'worst',\n",
              " 'time',\n",
              " 'age',\n",
              " 'wisdom',\n",
              " 'age',\n",
              " 'foolishness',\n",
              " 'epoch',\n",
              " 'belief',\n",
              " 'epoch',\n",
              " 'incredulity',\n",
              " 'season',\n",
              " 'light',\n",
              " 'season',\n",
              " 'darkness',\n",
              " 'spring',\n",
              " 'hope',\n",
              " 'winter',\n",
              " 'despair',\n",
              " 'everything',\n",
              " 'u',\n",
              " 'nothing',\n",
              " 'u',\n",
              " 'going',\n",
              " 'direct',\n",
              " 'heaven',\n",
              " 'going',\n",
              " 'direct',\n",
              " 'hell']"
            ]
          },
          "metadata": {},
          "execution_count": 52
        }
      ]
    },
    {
      "cell_type": "code",
      "source": [
        "from sklearn.feature_extraction.text import CountVectorizer\n",
        "cv_ = CountVectorizer()"
      ],
      "metadata": {
        "id": "Xsp8zvw7qLe-"
      },
      "execution_count": 54,
      "outputs": []
    },
    {
      "cell_type": "code",
      "source": [
        "X = cv_.fit_transform(stemmed_)"
      ],
      "metadata": {
        "id": "WhMekfofqLhk"
      },
      "execution_count": 62,
      "outputs": []
    },
    {
      "cell_type": "code",
      "source": [
        "X"
      ],
      "metadata": {
        "colab": {
          "base_uri": "https://localhost:8080/"
        },
        "id": "IlLXVU_TqxrJ",
        "outputId": "bdd584e2-a13e-4c6e-a6e5-f672314ff296"
      },
      "execution_count": 63,
      "outputs": [
        {
          "output_type": "execute_result",
          "data": {
            "text/plain": [
              "<30x23 sparse matrix of type '<class 'numpy.int64'>'\n",
              "\twith 30 stored elements in Compressed Sparse Row format>"
            ]
          },
          "metadata": {},
          "execution_count": 63
        }
      ]
    },
    {
      "cell_type": "code",
      "source": [
        "cv_.vocabulary_"
      ],
      "metadata": {
        "colab": {
          "base_uri": "https://localhost:8080/"
        },
        "id": "NJdEGkgcqyJp",
        "outputId": "122817d6-600c-44aa-ca1d-880279ac273e"
      },
      "execution_count": 64,
      "outputs": [
        {
          "output_type": "execute_result",
          "data": {
            "text/plain": [
              "{'best': 2,\n",
              " 'time': 18,\n",
              " 'worst': 22,\n",
              " 'age': 0,\n",
              " 'wisdom': 21,\n",
              " 'foolish': 8,\n",
              " 'epoch': 6,\n",
              " 'belief': 1,\n",
              " 'incredul': 13,\n",
              " 'season': 16,\n",
              " 'light': 14,\n",
              " 'dark': 3,\n",
              " 'spring': 17,\n",
              " 'hope': 12,\n",
              " 'winter': 20,\n",
              " 'despair': 4,\n",
              " 'everyth': 7,\n",
              " 'us': 19,\n",
              " 'noth': 15,\n",
              " 'go': 9,\n",
              " 'direct': 5,\n",
              " 'heaven': 10,\n",
              " 'hell': 11}"
            ]
          },
          "metadata": {},
          "execution_count": 64
        }
      ]
    },
    {
      "cell_type": "code",
      "source": [
        "stemmed_"
      ],
      "metadata": {
        "colab": {
          "base_uri": "https://localhost:8080/"
        },
        "id": "kHPvu0yprVox",
        "outputId": "5142c2b9-8463-456f-d114-b615054b99df"
      },
      "execution_count": 65,
      "outputs": [
        {
          "output_type": "execute_result",
          "data": {
            "text/plain": [
              "['best',\n",
              " 'time',\n",
              " 'worst',\n",
              " 'time',\n",
              " 'age',\n",
              " 'wisdom',\n",
              " 'age',\n",
              " 'foolish',\n",
              " 'epoch',\n",
              " 'belief',\n",
              " 'epoch',\n",
              " 'incredul',\n",
              " 'season',\n",
              " 'light',\n",
              " 'season',\n",
              " 'dark',\n",
              " 'spring',\n",
              " 'hope',\n",
              " 'winter',\n",
              " 'despair',\n",
              " 'everyth',\n",
              " 'us',\n",
              " 'noth',\n",
              " 'us',\n",
              " 'go',\n",
              " 'direct',\n",
              " 'heaven',\n",
              " 'go',\n",
              " 'direct',\n",
              " 'hell']"
            ]
          },
          "metadata": {},
          "execution_count": 65
        }
      ]
    },
    {
      "cell_type": "code",
      "source": [
        "X[0].toarray()"
      ],
      "metadata": {
        "colab": {
          "base_uri": "https://localhost:8080/"
        },
        "id": "_00FqxP6ruRT",
        "outputId": "0d958582-ce0c-41ed-e21c-0563142b5926"
      },
      "execution_count": 66,
      "outputs": [
        {
          "output_type": "execute_result",
          "data": {
            "text/plain": [
              "array([[0, 0, 1, 0, 0, 0, 0, 0, 0, 0, 0, 0, 0, 0, 0, 0, 0, 0, 0, 0, 0, 0,\n",
              "        0]])"
            ]
          },
          "metadata": {},
          "execution_count": 66
        }
      ]
    },
    {
      "cell_type": "code",
      "source": [],
      "metadata": {
        "id": "FALaCVGbr1is"
      },
      "execution_count": null,
      "outputs": []
    }
  ]
}